{
 "cells": [
  {
   "cell_type": "code",
   "execution_count": 1,
   "id": "74f19909-0eeb-4473-accf-c1ad6e5ea741",
   "metadata": {},
   "outputs": [],
   "source": [
    "%load_ext autoreload\n",
    "%autoreload 2"
   ]
  },
  {
   "cell_type": "code",
   "execution_count": 2,
   "id": "a779b351-c2cb-426c-a2e5-d953d5e8261f",
   "metadata": {
    "tags": []
   },
   "outputs": [
    {
     "ename": "SyntaxError",
     "evalue": "invalid syntax (cell_simulation.py, line 17)",
     "output_type": "error",
     "traceback": [
      "Traceback \u001b[0;36m(most recent call last)\u001b[0m:\n",
      "\u001b[0m  File \u001b[1;32m~/miniconda3/envs/symbac/lib/python3.11/site-packages/IPython/core/interactiveshell.py:3553\u001b[0m in \u001b[1;35mrun_code\u001b[0m\n    exec(code_obj, self.user_global_ns, self.user_ns)\u001b[0m\n",
      "\u001b[0m  Cell \u001b[1;32mIn[2], line 4\u001b[0m\n    from SyMBac.simulation import Simulation\u001b[0m\n",
      "\u001b[0;36m  File \u001b[0;32m~/Documents/SyMBac/SyMBac/simulation.py:4\u001b[0;36m\n\u001b[0;31m    from SyMBac.cell_simulation import run_simulation\u001b[0;36m\n",
      "\u001b[0;36m  File \u001b[0;32m~/Documents/SyMBac/SyMBac/cell_simulation.py:17\u001b[0;36m\u001b[0m\n\u001b[0;31m    <<<<<<< Updated upstream\u001b[0m\n\u001b[0m    ^\u001b[0m\n\u001b[0;31mSyntaxError\u001b[0m\u001b[0;31m:\u001b[0m invalid syntax\n"
     ]
    }
   ],
   "source": [
    "import sys\n",
    "sys.path.insert(1, '/home/georgeos/Documents/SyMBac/') # Not needed if you installed SyMBac using pip\n",
    "\n",
    "from SyMBac.simulation import Simulation\n",
    "from SyMBac.PSF import PSF_generator\n",
    "from SyMBac.renderer import Renderer\n",
    "from SyMBac.PSF import Camera\n",
    "from SyMBac.misc import get_sample_images\n",
    "real_image = get_sample_images()[\"E. coli 100x\"]"
   ]
  },
  {
   "cell_type": "code",
   "execution_count": null,
   "id": "cf5edc5d-fdc5-42d6-b41c-53132a76242c",
   "metadata": {},
   "outputs": [],
   "source": [
    "from SyMBac.cell_geometry import get_vertices\n",
    "import matplotlib.pyplot as plt\n",
    "import numpy as np"
   ]
  },
  {
   "cell_type": "code",
   "execution_count": null,
   "id": "add466d9-c988-4db2-b2fa-62ff4da8e268",
   "metadata": {},
   "outputs": [],
   "source": [
    "cell_verts = get_vertices(6,1,np.pi/2,40)\n",
    "x_verts, y_verts = [_[0] for _ in cell_verts], [_[1] for _ in cell_verts]"
   ]
  },
  {
   "cell_type": "code",
   "execution_count": null,
   "id": "3657759c-7b62-4800-b23a-dbe0ed75212e",
   "metadata": {},
   "outputs": [],
   "source": [
    "plt.scatter(x_verts, y_verts)"
   ]
  },
  {
   "cell_type": "code",
   "execution_count": null,
   "id": "a6898a48-29b8-4959-a0ba-14155eaf0eb5",
   "metadata": {},
   "outputs": [],
   "source": [
    "from SyMBac.cell_simulation import run_simulation, create_space, trench_creator, step_and_update\n",
    "from SyMBac.cell import Cell\n",
    "import numpy as np\n",
    "from pymunk.pyglet_util import DrawOptions\n",
    "import pymunk\n",
    "import pyglet"
   ]
  },
  {
   "cell_type": "code",
   "execution_count": null,
   "id": "667c4f25-5e3a-46ae-bcda-bc0a0a548418",
   "metadata": {},
   "outputs": [],
   "source": [
    "gravity = 0 \n",
    "pix_mic_conv = 0.065\n",
    "trench_length = 20\n",
    "trench_width = 1.1\n",
    "cell_max_length = 3\n",
    "cell_width = 1\n",
    "max_length_var = 0\n",
    "width_var = 0\n",
    "lysis_p = 0\n",
    "show_window = True\n",
    "phys_iters = 0\n",
    "sim_length = 1000\n",
    "save_dir = \"/tmp/\""
   ]
  },
  {
   "cell_type": "code",
   "execution_count": null,
   "id": "b9f0ac56-897e-4e2c-bfc8-62d39fa4ad6d",
   "metadata": {},
   "outputs": [],
   "source": [
    "\n",
    "space = create_space()\n",
    "space.gravity = 0, gravity  # arbitrary units, negative is toward trench pole\n",
    "#space.iterations = 1000\n",
    "#space.damping = 0\n",
    "#space.collision_bias = 0.0017970074436457143*10\n",
    "space.collision_slop = 0.\n",
    "dt = 1 / 100  # time-step per frame\n",
    "pix_mic_conv = 1 / pix_mic_conv  # micron per pixel\n",
    "scale_factor = pix_mic_conv * 3  # resolution scaling factor\n",
    "\n",
    "trench_length = trench_length * scale_factor\n",
    "trench_width = trench_width * scale_factor\n",
    "trench_creator(trench_width, trench_length, (35, 0), space)  # Coordinates of bottom left corner of the trench\n",
    "\n",
    "cell1 = Cell(\n",
    "    length=cell_max_length/2 * scale_factor,\n",
    "    width=cell_width * scale_factor,\n",
    "    resolution=60,\n",
    "    position=(50, 50), #x.y\n",
    "    angle=np.pi/4,\n",
    "    space=space,\n",
    "    dt= dt,\n",
    "    growth_rate_constant=1,\n",
    "    max_length=cell_max_length * scale_factor,\n",
    "    max_length_mean=cell_max_length * scale_factor,\n",
    "    max_length_var=max_length_var * np.sqrt(scale_factor),\n",
    "    width_var=width_var * np.sqrt(scale_factor),\n",
    "    width_mean=cell_width * scale_factor,\n",
    "    parent=None,\n",
    "    lysis_p=lysis_p\n",
    ")\n",
    "\n",
    "if show_window:\n",
    "\n",
    "    window = pyglet.window.Window(700, 700, \"SyMBac\", resizable=True)\n",
    "    options = DrawOptions()\n",
    "    options.shape_outline_color = (10,20,30,40)\n",
    "    @window.event\n",
    "    def on_draw():\n",
    "        window.clear()\n",
    "        space.debug_draw(options)\n",
    "\n",
    "    # key press event\n",
    "    @window.event\n",
    "    def on_key_press(symbol, modifier):\n",
    "\n",
    "        # key \"E\" get press\n",
    "        if symbol == pyglet.window.key.E:\n",
    "            # close the window\n",
    "            window.close()\n",
    "\n",
    "\n",
    "\n",
    "x = [0]\n",
    "cell_timeseries = []\n",
    "cells = [cell1]\n",
    "if show_window:\n",
    "    pyglet.clock.schedule_interval(step_and_update, interval=dt, cells=cells, space=space, phys_iters=phys_iters,\n",
    "                                   ylim=trench_length, cell_timeseries=cell_timeseries, x=x, sim_length=sim_length,\n",
    "                                   save_dir=save_dir)\n",
    "    pyglet.app.run()\n",
    "else:\n",
    "    for _ in tqdm(range(sim_length+2)):\n",
    "        step_and_update(\n",
    "            dt=dt, cells=cells, space=space, phys_iters=phys_iters, ylim=trench_length,\n",
    "            cell_timeseries=cell_timeseries, x=x, sim_length=sim_length, save_dir=save_dir\n",
    "        )\n",
    "\n",
    "\n",
    "# window.close()\n",
    "# phys_iters = phys_iters\n",
    "# for x in tqdm(range(sim_length+250),desc=\"Simulation Progress\"):\n",
    "#    cells = step_and_update(dt=dt, cells=cells, space=space, phys_iters=phys_iters,ylim=trench_length*1.1, cell_timeseries = cell_timeseries, x=x, sim_length = sim_length, save_dir = save_dir)\n",
    "#    if x > 250:\n",
    "#        cell_timeseries.append(deepcopy(cells))"
   ]
  },
  {
   "cell_type": "code",
   "execution_count": null,
   "id": "8635710e-852c-48d6-b310-0d16c07a7de3",
   "metadata": {},
   "outputs": [],
   "source": [
    "cell_timeseries"
   ]
  }
 ],
 "metadata": {
  "kernelspec": {
   "display_name": "Python 3 (ipykernel)",
   "language": "python",
   "name": "python3"
  },
  "language_info": {
   "codemirror_mode": {
    "name": "ipython",
    "version": 3
   },
   "file_extension": ".py",
   "mimetype": "text/x-python",
   "name": "python",
   "nbconvert_exporter": "python",
   "pygments_lexer": "ipython3",
   "version": "3.11.7"
  }
 },
 "nbformat": 4,
 "nbformat_minor": 5
}
